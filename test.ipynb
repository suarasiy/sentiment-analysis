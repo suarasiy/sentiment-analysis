{
 "cells": [
  {
   "cell_type": "code",
   "execution_count": 3,
   "metadata": {},
   "outputs": [],
   "source": [
    "# define function to sum seconds with miliseconds\n",
    "def sum_seconds_miliseconds(seconds, miliseconds):\n",
    "    return seconds + miliseconds / 1000\n",
    "\n",
    "# define function to sum between seconds\n",
    "def sum_seconds(seconds1, seconds2):\n",
    "    return seconds1 + seconds2\n",
    "\n",
    "# define function to sum two times\n",
    "def sum_times(time1, time2):\n",
    "    return time1 + time2"
   ]
  },
  {
   "cell_type": "code",
   "execution_count": 8,
   "metadata": {},
   "outputs": [],
   "source": [
    "seconds = [93.61, 39.15, 37.36, 16.67, 13.79, 10.43, 8.54, 3.57, 3.56, 3.55, 3.54]"
   ]
  },
  {
   "cell_type": "code",
   "execution_count": 10,
   "metadata": {},
   "outputs": [
    {
     "name": "stdout",
     "output_type": "stream",
     "text": [
      "233.77\n"
     ]
    }
   ],
   "source": [
    "# sum all seconds\n",
    "total_seconds = sum(seconds)\n",
    "print(total_seconds)"
   ]
  }
 ],
 "metadata": {
  "kernelspec": {
   "display_name": "env",
   "language": "python",
   "name": "python3"
  },
  "language_info": {
   "codemirror_mode": {
    "name": "ipython",
    "version": 3
   },
   "file_extension": ".py",
   "mimetype": "text/x-python",
   "name": "python",
   "nbconvert_exporter": "python",
   "pygments_lexer": "ipython3",
   "version": "3.12.1"
  }
 },
 "nbformat": 4,
 "nbformat_minor": 2
}
